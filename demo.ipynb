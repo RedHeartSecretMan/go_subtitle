{
 "cells": [
  {
   "cell_type": "code",
   "execution_count": 1,
   "metadata": {},
   "outputs": [],
   "source": [
    "import torch\n",
    "import subtitler\n",
    "from transformers import MBartForConditionalGeneration, MBart50TokenizerFast"
   ]
  },
  {
   "cell_type": "code",
   "execution_count": null,
   "metadata": {},
   "outputs": [],
   "source": [
    "# 方式一\n",
    "model = subtitler.load_model(\"small\")\n",
    "avpath = subtitler.get_avpath([\"data/test/audios\"])\n",
    "audio_path = subtitler.generate_subtitle(model, avpath, **{\"task\": \"translate\"})"
   ]
  },
  {
   "cell_type": "code",
   "execution_count": null,
   "metadata": {},
   "outputs": [],
   "source": [
    "# 方式二\n",
    "# load base model\n",
    "model = subtitler.load_model(\"medium\")\n",
    "\n",
    "# load audio and pad/trim it to fit 30 seconds\n",
    "audio = subtitler.load_audio(\"data/test/audios/Mojito.mp3\")\n",
    "audio = subtitler.pad_or_trim(audio)\n",
    "\n",
    "# make log-Mel spectrogram and move to the same device as the model\n",
    "mel = subtitler.log_mel_spectrogram(audio).to(model.device)\n",
    "\n",
    "# detect the spoken language\n",
    "_, probs = model.detect_language(mel)\n",
    "print(f\"Detected language: {max(probs, key=probs.get)}\")\n",
    "\n",
    "# decode the audio\n",
    "options = {}\n",
    "options[\"fp16\"] = True if torch.cuda.is_available() else False\n",
    "options = subtitler.DecodingOptions(**options)\n",
    "\n",
    "result = subtitler.decode(model, mel, options)\n",
    "\n",
    "# print the recognized text\n",
    "print(result.text)"
   ]
  },
  {
   "cell_type": "code",
   "execution_count": null,
   "metadata": {},
   "outputs": [],
   "source": [
    "# 方式三\n",
    "# load base model\n",
    "model = subtitler.load_model(\"large\")\n",
    "\n",
    "# gain audio stream, load audio and pad/trim it to fit 30 seconds\n",
    "audio_path = subtitler.extract_audio(\"data/test/videos/接触.mp4\")\n",
    "audio = subtitler.load_audio(audio_path)\n",
    "audio = subtitler.pad_or_trim(audio)\n",
    "\n",
    "# make log-Mel spectrogram and move to the same device as the model\n",
    "mel = subtitler.log_mel_spectrogram(audio).to(model.device)\n",
    "\n",
    "# detect the spoken language\n",
    "_, probs = model.detect_language(mel)\n",
    "print(f\"Detected language: {max(probs, key=probs.get)}\")\n",
    "\n",
    "# decode the audio\n",
    "options = {}\n",
    "options[\"fp16\"] = True if torch.cuda.is_available() else False\n",
    "options = subtitler.DecodingOptions(**options)\n",
    "result = subtitler.decode(model, mel, options)\n",
    "\n",
    "# print the recognized text\n",
    "print(result.text)"
   ]
  },
  {
   "cell_type": "code",
   "execution_count": null,
   "metadata": {},
   "outputs": [],
   "source": [
    "# X->Chniese \"translate\"\n",
    "article_en = \"actions speak louder than words.\"\n",
    "article_ja = \"虎穴に入らずんば虎子を得ず.\"\n",
    "article_ko = \"지혜로운 자는 비극에서도 긍정적인 것을 찾는다.\"\n",
    "\n",
    "\n",
    "model = MBartForConditionalGeneration.from_pretrained(\"facebook/mbart-large-50-many-to-many-mmt\")\n",
    "tokenizer = MBart50TokenizerFast.from_pretrained(\"facebook/mbart-large-50-many-to-many-mmt\")\n",
    "\n",
    "\n",
    "# translate English to Chniese\n",
    "tokenizer.src_lang = \"en_XX\"\n",
    "encoded_en = tokenizer(article_en, return_tensors=\"pt\")\n",
    "generated_tokens = model.generate(\n",
    "    **encoded_en,\n",
    "    forced_bos_token_id=tokenizer.lang_code_to_id[\"zh_CN\"]\n",
    ")\n",
    "result_en_zh = tokenizer.batch_decode(generated_tokens, skip_special_tokens=True)\n",
    "print(result_en_zh)\n",
    "\n",
    "\n",
    "# translate Japanese to Chinese\n",
    "tokenizer.src_lang = \"ja_XX\"\n",
    "encoded_ja = tokenizer(article_ja, return_tensors=\"pt\")\n",
    "generated_tokens = model.generate(\n",
    "    **encoded_ja,\n",
    "    forced_bos_token_id=tokenizer.lang_code_to_id[\"zh_CN\"]\n",
    ")\n",
    "result_ja_zh = tokenizer.batch_decode(generated_tokens, skip_special_tokens=True)\n",
    "print(result_ja_zh)\n",
    "\n",
    "\n",
    "# translate Korean to Chniese\n",
    "tokenizer.src_lang = \"ko_KR\"\n",
    "encoded_ko = tokenizer(article_ko, return_tensors=\"pt\")\n",
    "generated_tokens = model.generate(\n",
    "    **encoded_ko,\n",
    "    forced_bos_token_id=tokenizer.lang_code_to_id[\"zh_CN\"]\n",
    ")\n",
    "result_ko_zh = tokenizer.batch_decode(generated_tokens, skip_special_tokens=True)\n",
    "print(result_ko_zh)"
   ]
  }
 ],
 "metadata": {
  "kernelspec": {
   "display_name": "openai",
   "language": "python",
   "name": "python3"
  },
  "language_info": {
   "codemirror_mode": {
    "name": "ipython",
    "version": 3
   },
   "file_extension": ".py",
   "mimetype": "text/x-python",
   "name": "python",
   "nbconvert_exporter": "python",
   "pygments_lexer": "ipython3",
   "version": "3.8.16"
  },
  "orig_nbformat": 4,
  "vscode": {
   "interpreter": {
    "hash": "c9c961b1b0991bdc0740f743fe1aabcf20b3d8e9f0b6127268f8c7ad2f684456"
   }
  }
 },
 "nbformat": 4,
 "nbformat_minor": 2
}
