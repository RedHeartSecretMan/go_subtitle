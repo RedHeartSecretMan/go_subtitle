{
 "cells": [
  {
   "cell_type": "code",
   "execution_count": 1,
   "metadata": {},
   "outputs": [],
   "source": [
    "import torch\n",
    "import subtitler"
   ]
  },
  {
   "cell_type": "code",
   "execution_count": null,
   "metadata": {},
   "outputs": [],
   "source": [
    "# 方式一\n",
    "model = subtitler.load_model(\"small\")\n",
    "avpath = subtitler.get_avpath([\"data/test/audios\"])\n",
    "audio_path = subtitler.generate_subtitle(model, avpath)"
   ]
  },
  {
   "cell_type": "code",
   "execution_count": null,
   "metadata": {},
   "outputs": [],
   "source": [
    "# 方式二\n",
    "# load base model\n",
    "model = subtitler.load_model(\"medium\")\n",
    "\n",
    "# load audio and pad/trim it to fit 30 seconds\n",
    "audio = subtitler.load_audio(\"data/test/audios/Mojito.mp3\")\n",
    "audio = subtitler.pad_or_trim(audio)\n",
    "\n",
    "# make log-Mel spectrogram and move to the same device as the model\n",
    "mel = subtitler.log_mel_spectrogram(audio).to(model.device)\n",
    "\n",
    "# detect the spoken language\n",
    "_, probs = model.detect_language(mel)\n",
    "print(f\"Detected language: {max(probs, key=probs.get)}\")\n",
    "\n",
    "# decode the audio\n",
    "options = {}\n",
    "options[\"fp16\"] = True if torch.cuda.is_available() else False\n",
    "options = subtitler.DecodingOptions(**options)\n",
    "\n",
    "result = subtitler.decode(model, mel, options)\n",
    "\n",
    "# print the recognized text\n",
    "print(result.text)"
   ]
  },
  {
   "cell_type": "code",
   "execution_count": null,
   "metadata": {},
   "outputs": [],
   "source": [
    "# 方式三\n",
    "# load base model\n",
    "model = subtitler.load_model(\"large\")\n",
    "\n",
    "# gain audio stream, load audio and pad/trim it to fit 30 seconds\n",
    "audio_path = subtitler.extract_audio(\"data/test/videos/接触.mp4\")\n",
    "audio = subtitler.load_audio(audio_path)\n",
    "audio = subtitler.pad_or_trim(audio)\n",
    "\n",
    "# make log-Mel spectrogram and move to the same device as the model\n",
    "mel = subtitler.log_mel_spectrogram(audio).to(model.device)\n",
    "\n",
    "# detect the spoken language\n",
    "_, probs = model.detect_language(mel)\n",
    "print(f\"Detected language: {max(probs, key=probs.get)}\")\n",
    "\n",
    "# decode the audio\n",
    "options = {}\n",
    "options[\"fp16\"] = True if torch.cuda.is_available() else False\n",
    "options = subtitler.DecodingOptions(**options)\n",
    "result = subtitler.decode(model, mel, options)\n",
    "\n",
    "# print the recognized text\n",
    "print(result.text)"
   ]
  }
 ],
 "metadata": {
  "kernelspec": {
   "display_name": "openai",
   "language": "python",
   "name": "python3"
  },
  "language_info": {
   "codemirror_mode": {
    "name": "ipython",
    "version": 3
   },
   "file_extension": ".py",
   "mimetype": "text/x-python",
   "name": "python",
   "nbconvert_exporter": "python",
   "pygments_lexer": "ipython3",
   "version": "3.8.16"
  },
  "orig_nbformat": 4,
  "vscode": {
   "interpreter": {
    "hash": "c9c961b1b0991bdc0740f743fe1aabcf20b3d8e9f0b6127268f8c7ad2f684456"
   }
  }
 },
 "nbformat": 4,
 "nbformat_minor": 2
}
